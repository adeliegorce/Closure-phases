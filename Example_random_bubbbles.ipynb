{
 "cells": [
  {
   "cell_type": "markdown",
   "metadata": {},
   "source": [
    "First generate a bubble field with ipython. Import the module"
   ]
  },
  {
   "cell_type": "code",
   "execution_count": 2,
   "metadata": {},
   "outputs": [],
   "source": [
    "from Random_bubbles import *"
   ]
  },
  {
   "cell_type": "markdown",
   "metadata": {},
   "source": [
    "Creates a periodic 2D (NDIM) field with 512x512 (DIM) pixels, with 20 (nb) bubbles of radius 20 pixels, allowed to overlap:"
   ]
  },
  {
   "cell_type": "code",
   "execution_count": 3,
   "metadata": {},
   "outputs": [
    {
     "name": "stdout",
     "output_type": "stream",
     "text": [
      "initialising a 2D box with 512 cells and 20 bubbles of radius 20\n",
      "periodicity and nooverlap are (1,0)\n",
      "Number of bubbles in= 20\n",
      "Box mean =  0.0930595397949\n"
     ]
    },
    {
     "data": {
      "image/png": "[encoded data removed]",
      "text/plain": [
       "<Figure size 576x576 with 1 Axes>"
      ]
     },
     "metadata": {
      "needs_background": "light"
     },
     "output_type": "display_data"
    }
   ],
   "source": [
    "cube=RandomBubbles(DIM=512, nb=20, radius=20, NDIM = 2, nooverlap = False, periodic=True) "
   ]
  },
  {
   "cell_type": "markdown",
   "metadata": {},
   "source": []
  },
  {
   "cell_type": "code",
   "execution_count": 4,
   "metadata": {},
   "outputs": [],
   "source": [
    "RandomBubbles.write_ionisation_field(cube) #saves real field in a text file\n",
    "# RandomBubbles.write_ionisation_field_k(cube) #removed in v2"
   ]
  },
  {
   "cell_type": "markdown",
   "metadata": {},
   "source": [
    "The function will write the following textfile:\n",
    "    Field_20binary_bubbles_nooverlap=False_radius=20_xhII0.100_N512_2D.txt \n",
    "which is a 2D array of the binary ionisation field.\n",
    "\n",
    "Compile the Spherical_correlations2d.cpp file with the correct information. Example for preivous files: box side length to 400Mpc, computation parallelised on 20 cores:\n",
    "\n",
    "g++ -std=c++11 -fopenmp -DSIZE=512 -DLENGTH=400 -DNTHREADS=20 -Dfilename=\\\"Field_20binary_bubbles_nooverlap=False_radius=20_xhII0.100_N512_2D\\\" -o ./SC.o ./Spherical_correlations2d.cpp\n",
    "    \n",
    "Run the executable:  ./SC.o\n",
    "\n",
    "The output will be a textfile with the r considered (hard coded, in Mpc), the real part and the imaginary part of the TCF for each r.\n"
   ]
  }
 ],
 "metadata": {
  "kernelspec": {
   "display_name": "Python 3",
   "language": "python",
   "name": "python3"
  },
  "language_info": {
   "codemirror_mode": {
    "name": "ipython",
    "version": 3
   },
   "file_extension": ".py",
   "mimetype": "text/x-python",
   "name": "python",
   "nbconvert_exporter": "python",
   "pygments_lexer": "ipython3",
   "version": "3.6.9"
  }
 },
 "nbformat": 4,
 "nbformat_minor": 2
}
