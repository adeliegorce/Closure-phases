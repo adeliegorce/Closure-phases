{
 "cells": [
  {
   "cell_type": "markdown",
   "metadata": {},
   "source": [
    "First generate a bubble field with ipython. Import the module"
   ]
  },
  {
   "cell_type": "code",
   "execution_count": 1,
   "metadata": {},
   "outputs": [],
   "source": [
    "from Random_bubbles import *"
   ]
  },
  {
   "cell_type": "markdown",
   "metadata": {},
   "source": [
    "Creates a periodic 2D (NDIM) field with 512x512 (DIM) pixels, with bubbles of radius 20 pixels, allowed to overlap, to reach a given filling fraction:"
   ]
  },
  {
   "cell_type": "code",
   "execution_count": 2,
   "metadata": {},
   "outputs": [
    {
     "name": "stdout",
     "output_type": "stream",
     "text": [
      "Initialising a 2D box with 512 cells\n",
      "Target filling fraction: 0.05 with bubbles of radius 20\n",
      "Overlap and periodicity are (True,True)\n",
      " \n",
      "f = 0.0527, 11 bubbles, 100% done.\n"
     ]
    },
    {
     "data": {
      "image/png": "[encoded data removed]",
      "text/plain": [
       "<Figure size 576x576 with 1 Axes>"
      ]
     },
     "metadata": {
      "needs_background": "light"
     },
     "output_type": "display_data"
    }
   ],
   "source": [
    "cube=RandomBubbles(DIM=512, fillingfraction=0.05, radius=20, NDIM = 2, nooverlap = False, periodic=True) "
   ]
  },
  {
   "cell_type": "code",
   "execution_count": 3,
   "metadata": {},
   "outputs": [],
   "source": [
    "RandomBubbles.write_ionisation_field(cube) #saves ionisation field in a text file"
   ]
  },
  {
   "cell_type": "markdown",
   "metadata": {},
   "source": [
    "The function will write the following textfile:\n",
    "    Field_11binary_bubbles_nooverlap=False_radius=20_xhII0.05_N512_2D.txt \n",
    "which is a 2D array of the binary ionisation field.\n",
    "\n",
    "Modify the header file (SC.h) with the correct information about the box (dimensions, resolution, number of threads, correlation scales to consider) then compile the Makefile.\n",
    "    make 2d #for 2d TCF\n",
    "    make 3d #for 3d TCF\n",
    "    \n",
    "Run the executable:  ./SC.o\n",
    "\n",
    "The output will be a textfile with the r considered (hard coded, in Mpc, in the header file), the real part and the imaginary part of the TCF for each r.\n",
    "\n",
    "NOTE: Libraries FFTW and OPENMP are required.\n"
   ]
  }
 ],
 "metadata": {
  "kernelspec": {
   "display_name": "Python 3",
   "language": "python",
   "name": "python3"
  },
  "language_info": {
   "codemirror_mode": {
    "name": "ipython",
    "version": 3
   },
   "file_extension": ".py",
   "mimetype": "text/x-python",
   "name": "python",
   "nbconvert_exporter": "python",
   "pygments_lexer": "ipython3",
   "version": "3.6.10"
  }
 },
 "nbformat": 4,
 "nbformat_minor": 2
}
